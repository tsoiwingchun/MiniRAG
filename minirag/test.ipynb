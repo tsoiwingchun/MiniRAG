{
 "cells": [
  {
   "cell_type": "code",
   "execution_count": 13,
   "metadata": {},
   "outputs": [
    {
     "name": "stdout",
     "output_type": "stream",
     "text": [
      "Tag: child, Attribute: {'name': 'child1'}, Text: Content1\n",
      "Tag: child, Attribute: {'name': 'child2'}, Text: Content2\n"
     ]
    }
   ],
   "source": [
    "import xml.etree.ElementTree as ET\n",
    "\n",
    "xml_data = '''<root>\n",
    "                <child name=\"child1\">Content1</child>\n",
    "                <child name=\"child2\">Content2</child>\n",
    "              </root>'''\n",
    "\n",
    "# Parse the XML data\n",
    "root = ET.fromstring(xml_data)\n",
    "\n",
    "# Access elements\n",
    "for child in root:\n",
    "    print(f\"Tag: {child.tag}, Attribute: {child.attrib}, Text: {child.text}\")\n"
   ]
  },
  {
   "cell_type": "code",
   "execution_count": 11,
   "metadata": {},
   "outputs": [
    {
     "name": "stdout",
     "output_type": "stream",
     "text": [
      "wrapper\n"
     ]
    }
   ],
   "source": [
    "print(say_hello.__name__)"
   ]
  },
  {
   "cell_type": "code",
   "execution_count": 12,
   "metadata": {},
   "outputs": [
    {
     "name": "stdout",
     "output_type": "stream",
     "text": [
      "This functios sucks\n"
     ]
    }
   ],
   "source": [
    "print(say_hello.__doc__)"
   ]
  },
  {
   "cell_type": "code",
   "execution_count": null,
   "metadata": {},
   "outputs": [],
   "source": []
  }
 ],
 "metadata": {
  "kernelspec": {
   "display_name": "lightrag",
   "language": "python",
   "name": "python3"
  },
  "language_info": {
   "codemirror_mode": {
    "name": "ipython",
    "version": 3
   },
   "file_extension": ".py",
   "mimetype": "text/x-python",
   "name": "python",
   "nbconvert_exporter": "python",
   "pygments_lexer": "ipython3",
   "version": "3.10.13"
  }
 },
 "nbformat": 4,
 "nbformat_minor": 2
}
